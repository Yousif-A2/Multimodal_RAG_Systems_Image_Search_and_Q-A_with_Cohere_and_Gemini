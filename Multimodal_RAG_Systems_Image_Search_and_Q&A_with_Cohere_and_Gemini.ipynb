{
  "nbformat": 4,
  "nbformat_minor": 0,
  "metadata": {
    "colab": {
      "provenance": [],
      "authorship_tag": "ABX9TyNHPo7Ct0lzHDeXTLbI+HXG",
      "include_colab_link": true
    },
    "kernelspec": {
      "name": "python3",
      "display_name": "Python 3"
    },
    "language_info": {
      "name": "python"
    }
  },
  "cells": [
    {
      "cell_type": "markdown",
      "metadata": {
        "id": "view-in-github",
        "colab_type": "text"
      },
      "source": [
        "<a href=\"https://colab.research.google.com/github/Yousif-A2/Multimodal_RAG_Systems_Image_Search_and_Q-A_with_Cohere_and_Gemini/blob/main/Multimodal_RAG_Systems_Image_Search_and_Q%26A_with_Cohere_and_Gemini.ipynb\" target=\"_parent\"><img src=\"https://colab.research.google.com/assets/colab-badge.svg\" alt=\"Open In Colab\"/></a>"
      ]
    },
    {
      "cell_type": "code",
      "source": [
        "!pip install cohere"
      ],
      "metadata": {
        "colab": {
          "base_uri": "https://localhost:8080/"
        },
        "id": "CBZh9P63TfUN",
        "outputId": "c57f3569-8230-4eb0-cb08-3d238c934caf"
      },
      "execution_count": null,
      "outputs": [
        {
          "output_type": "stream",
          "name": "stdout",
          "text": [
            "Collecting cohere\n",
            "  Downloading cohere-5.16.1-py3-none-any.whl.metadata (3.4 kB)\n",
            "Collecting fastavro<2.0.0,>=1.9.4 (from cohere)\n",
            "  Downloading fastavro-1.11.1-cp311-cp311-manylinux_2_17_x86_64.manylinux2014_x86_64.whl.metadata (5.7 kB)\n",
            "Requirement already satisfied: httpx>=0.21.2 in /usr/local/lib/python3.11/dist-packages (from cohere) (0.28.1)\n",
            "Collecting httpx-sse==0.4.0 (from cohere)\n",
            "  Downloading httpx_sse-0.4.0-py3-none-any.whl.metadata (9.0 kB)\n",
            "Requirement already satisfied: pydantic>=1.9.2 in /usr/local/lib/python3.11/dist-packages (from cohere) (2.11.7)\n",
            "Requirement already satisfied: pydantic-core<3.0.0,>=2.18.2 in /usr/local/lib/python3.11/dist-packages (from cohere) (2.33.2)\n",
            "Requirement already satisfied: requests<3.0.0,>=2.0.0 in /usr/local/lib/python3.11/dist-packages (from cohere) (2.32.3)\n",
            "Requirement already satisfied: tokenizers<1,>=0.15 in /usr/local/lib/python3.11/dist-packages (from cohere) (0.21.2)\n",
            "Collecting types-requests<3.0.0,>=2.0.0 (from cohere)\n",
            "  Downloading types_requests-2.32.4.20250611-py3-none-any.whl.metadata (2.1 kB)\n",
            "Requirement already satisfied: typing_extensions>=4.0.0 in /usr/local/lib/python3.11/dist-packages (from cohere) (4.14.1)\n",
            "Requirement already satisfied: anyio in /usr/local/lib/python3.11/dist-packages (from httpx>=0.21.2->cohere) (4.9.0)\n",
            "Requirement already satisfied: certifi in /usr/local/lib/python3.11/dist-packages (from httpx>=0.21.2->cohere) (2025.7.14)\n",
            "Requirement already satisfied: httpcore==1.* in /usr/local/lib/python3.11/dist-packages (from httpx>=0.21.2->cohere) (1.0.9)\n",
            "Requirement already satisfied: idna in /usr/local/lib/python3.11/dist-packages (from httpx>=0.21.2->cohere) (3.10)\n",
            "Requirement already satisfied: h11>=0.16 in /usr/local/lib/python3.11/dist-packages (from httpcore==1.*->httpx>=0.21.2->cohere) (0.16.0)\n",
            "Requirement already satisfied: annotated-types>=0.6.0 in /usr/local/lib/python3.11/dist-packages (from pydantic>=1.9.2->cohere) (0.7.0)\n",
            "Requirement already satisfied: typing-inspection>=0.4.0 in /usr/local/lib/python3.11/dist-packages (from pydantic>=1.9.2->cohere) (0.4.1)\n",
            "Requirement already satisfied: charset-normalizer<4,>=2 in /usr/local/lib/python3.11/dist-packages (from requests<3.0.0,>=2.0.0->cohere) (3.4.2)\n",
            "Requirement already satisfied: urllib3<3,>=1.21.1 in /usr/local/lib/python3.11/dist-packages (from requests<3.0.0,>=2.0.0->cohere) (2.5.0)\n",
            "Requirement already satisfied: huggingface-hub<1.0,>=0.16.4 in /usr/local/lib/python3.11/dist-packages (from tokenizers<1,>=0.15->cohere) (0.34.1)\n",
            "Requirement already satisfied: filelock in /usr/local/lib/python3.11/dist-packages (from huggingface-hub<1.0,>=0.16.4->tokenizers<1,>=0.15->cohere) (3.18.0)\n",
            "Requirement already satisfied: fsspec>=2023.5.0 in /usr/local/lib/python3.11/dist-packages (from huggingface-hub<1.0,>=0.16.4->tokenizers<1,>=0.15->cohere) (2025.3.0)\n",
            "Requirement already satisfied: packaging>=20.9 in /usr/local/lib/python3.11/dist-packages (from huggingface-hub<1.0,>=0.16.4->tokenizers<1,>=0.15->cohere) (25.0)\n",
            "Requirement already satisfied: pyyaml>=5.1 in /usr/local/lib/python3.11/dist-packages (from huggingface-hub<1.0,>=0.16.4->tokenizers<1,>=0.15->cohere) (6.0.2)\n",
            "Requirement already satisfied: tqdm>=4.42.1 in /usr/local/lib/python3.11/dist-packages (from huggingface-hub<1.0,>=0.16.4->tokenizers<1,>=0.15->cohere) (4.67.1)\n",
            "Requirement already satisfied: hf-xet<2.0.0,>=1.1.3 in /usr/local/lib/python3.11/dist-packages (from huggingface-hub<1.0,>=0.16.4->tokenizers<1,>=0.15->cohere) (1.1.5)\n",
            "Requirement already satisfied: sniffio>=1.1 in /usr/local/lib/python3.11/dist-packages (from anyio->httpx>=0.21.2->cohere) (1.3.1)\n",
            "Downloading cohere-5.16.1-py3-none-any.whl (291 kB)\n",
            "\u001b[2K   \u001b[90m━━━━━━━━━━━━━━━━━━━━━━━━━━━━━━━━━━━━━━━━\u001b[0m \u001b[32m291.9/291.9 kB\u001b[0m \u001b[31m10.8 MB/s\u001b[0m eta \u001b[36m0:00:00\u001b[0m\n",
            "\u001b[?25hDownloading httpx_sse-0.4.0-py3-none-any.whl (7.8 kB)\n",
            "Downloading fastavro-1.11.1-cp311-cp311-manylinux_2_17_x86_64.manylinux2014_x86_64.whl (3.3 MB)\n",
            "\u001b[2K   \u001b[90m━━━━━━━━━━━━━━━━━━━━━━━━━━━━━━━━━━━━━━━━\u001b[0m \u001b[32m3.3/3.3 MB\u001b[0m \u001b[31m80.2 MB/s\u001b[0m eta \u001b[36m0:00:00\u001b[0m\n",
            "\u001b[?25hDownloading types_requests-2.32.4.20250611-py3-none-any.whl (20 kB)\n",
            "Installing collected packages: types-requests, httpx-sse, fastavro, cohere\n",
            "Successfully installed cohere-5.16.1 fastavro-1.11.1 httpx-sse-0.4.0 types-requests-2.32.4.20250611\n"
          ]
        }
      ]
    },
    {
      "cell_type": "code",
      "source": [
        "from google.colab import userdata\n"
      ],
      "metadata": {
        "id": "G8Mi8u2fTSw0"
      },
      "execution_count": null,
      "outputs": []
    },
    {
      "cell_type": "code",
      "execution_count": null,
      "metadata": {
        "id": "ZT9qcg0yS8oi"
      },
      "outputs": [],
      "source": [
        "import cohere\n",
        "cohere_api_key = userdata.get('coher')\n",
        "co = cohere.ClientV2(api_key=cohere_api_key)\n",
        "\n",
        "import google.generativeai as genai\n",
        "gemini_api_key = userdata.get('gemini')\n",
        "genai.configure(api_key=gemini_api_key)\n",
        "client = genai.GenerativeModel('gemini-2.0-flash')"
      ]
    },
    {
      "cell_type": "code",
      "source": [
        "import PIL\n",
        "import io\n",
        "import base64\n",
        "\n",
        "max_pixels = 1568*1568  # Max resolution for images\n",
        "\n",
        "# Resize too large images\n",
        "def resize_image(pil_image):\n",
        "    org_width, org_height = pil_image.size\n",
        "    if org_width * org_height > max_pixels:\n",
        "        scale_factor = (max_pixels / (org_width * org_height)) ** 0.5\n",
        "        new_width = int(org_width * scale_factor)\n",
        "        new_height = int(org_height * scale_factor)\n",
        "        pil_image.thumbnail((new_width, new_height))\n",
        "\n",
        "# Convert images to a base64 string\n",
        "def base64_from_image(img_path):\n",
        "    pil_image = PIL.Image.open(img_path)\n",
        "    img_format = pil_image.format if pil_image.format else \"PNG\"\n",
        "\n",
        "    resize_image(pil_image)\n",
        "\n",
        "    with io.BytesIO() as img_buffer:\n",
        "        pil_image.save(img_buffer, format=img_format)\n",
        "        img_buffer.seek(0)\n",
        "        img_data = f\"data:image/{img_format.lower()};base64,\"+base64.b64encode(img_buffer.read()).decode(\"utf-8\")\n",
        "\n",
        "    return img_data\n"
      ],
      "metadata": {
        "id": "RsXslBuvTApo"
      },
      "execution_count": null,
      "outputs": []
    },
    {
      "cell_type": "code",
      "source": [
        "import numpy as np\n",
        "import os\n",
        "import requests\n",
        "import tqdm\n",
        "\n",
        "# Define the image folder\n",
        "img_folder = '/content/images'\n",
        "os.makedirs(img_folder, exist_ok=True)\n",
        "\n",
        "# Add a sample image dictionary\n",
        "images = {\n",
        "    \"image1.png\": \"https://images.unsplash.com/photo-1542291026-7eec264c27ff?q=80&w=2670&auto=format&fit=crop&ixlib=rb-4.0.3&ixid=M3wxMjA3fDB8MHxwaG90by1wYWdlfHx8fGVufDB8fHx8fA%3D%3D\"\n",
        "}\n",
        "\n",
        "img_paths = []\n",
        "doc_embeddings = []\n",
        "\n",
        "for name, url in tqdm.tqdm(images.items()):\n",
        "    img_path = os.path.join(img_folder, name)\n",
        "    img_paths.append(img_path)\n",
        "\n",
        "    # Download the image if needed\n",
        "    if not os.path.exists(img_path):\n",
        "        response = requests.get(url)\n",
        "        response.raise_for_status()\n",
        "\n",
        "        with open(img_path, \"wb\") as fOut:\n",
        "            fOut.write(response.content)\n",
        "\n",
        "    # Get the base64 representation of the image\n",
        "    api_input_document = {\n",
        "        \"content\": [\n",
        "            {\"type\": \"image\", \"image\": base64_from_image(img_path)},\n",
        "        ]\n",
        "    }\n",
        "\n",
        "    # Call the Embed v4.0 model\n",
        "    api_response = co.embed(\n",
        "        model=\"embed-v4.0\",\n",
        "        input_type=\"search_document\",\n",
        "        embedding_types=[\"float\"],\n",
        "        inputs=[api_input_document],\n",
        "    )\n",
        "\n",
        "    # Store embedding\n",
        "    emb = np.asarray(api_response.embeddings.float[0])\n",
        "    doc_embeddings.append(emb)\n",
        "\n",
        "doc_embeddings = np.vstack(doc_embeddings)"
      ],
      "metadata": {
        "colab": {
          "base_uri": "https://localhost:8080/"
        },
        "id": "PyXvrVQuTEuT",
        "outputId": "b5f61c72-a1bb-48ff-dddb-344f16df5a09"
      },
      "execution_count": null,
      "outputs": [
        {
          "output_type": "stream",
          "name": "stderr",
          "text": [
            "100%|██████████| 1/1 [00:01<00:00,  1.78s/it]\n"
          ]
        }
      ]
    },
    {
      "cell_type": "code",
      "source": [
        "def search(question, max_img_size=800):\n",
        "    # Compute the embedding for the query\n",
        "    api_response = co.embed(\n",
        "        model=\"embed-v4.0\",\n",
        "        input_type=\"search_query\",\n",
        "        embedding_types=[\"float\"],\n",
        "        texts=[question],\n",
        "    )\n",
        "\n",
        "    query_emb = np.asarray(api_response.embeddings.float[0])\n",
        "\n",
        "    # Compute cosine similarities\n",
        "    cos_sim_scores = np.dot(query_emb, doc_embeddings.T)\n",
        "\n",
        "    # Get the most relevant image\n",
        "    top_idx = np.argmax(cos_sim_scores)\n",
        "    hit_img_path = img_paths[top_idx]\n",
        "\n",
        "    return hit_img_path\n"
      ],
      "metadata": {
        "id": "r1kgI_pJTH4b"
      },
      "execution_count": null,
      "outputs": []
    },
    {
      "cell_type": "code",
      "source": [
        "def answer(question, img_path):\n",
        "    prompt = [f\"\"\"Answer the question based solely on the information from the image.\n",
        "               Question: {question}\"\"\", PIL.Image.open(img_path)]\n",
        "\n",
        "    response = client.generate_content(\n",
        "        contents=prompt\n",
        "    )\n",
        "\n",
        "    return response.text"
      ],
      "metadata": {
        "id": "ByHYtuQ6V9q0"
      },
      "execution_count": null,
      "outputs": []
    },
    {
      "cell_type": "code",
      "source": [
        "question = \"ماذا يوجد في الصور؟?\"\n",
        "top_image_path = search(question)\n",
        "answer_text = answer(question, top_image_path)\n",
        "print(answer_text)"
      ],
      "metadata": {
        "colab": {
          "base_uri": "https://localhost:8080/",
          "height": 34
        },
        "id": "E-koH4_pTroJ",
        "outputId": "31edcc8c-3b87-499d-8366-ff6faa86ac22"
      },
      "execution_count": null,
      "outputs": [
        {
          "output_type": "stream",
          "name": "stdout",
          "text": [
            "يوجد في الصورة حذاء رياضي نايك.\n"
          ]
        }
      ]
    },
    {
      "cell_type": "code",
      "source": [],
      "metadata": {
        "id": "JiPeefmQpDMj"
      },
      "execution_count": null,
      "outputs": []
    }
  ]
}